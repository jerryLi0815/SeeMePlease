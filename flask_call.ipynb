{
 "cells": [
  {
   "cell_type": "code",
   "execution_count": 1,
   "id": "058e4033-3316-4b9b-8e58-97cb828ca0b5",
   "metadata": {},
   "outputs": [
    {
     "name": "stdout",
     "output_type": "stream",
     "text": [
      "CUDA is available. Using GPU: NVIDIA L40S\n"
     ]
    }
   ],
   "source": [
    "import torch\n",
    "torch.cuda.empty_cache()\n",
    "if torch.cuda.is_available():\n",
    "    print(\"CUDA is available. Using GPU:\", torch.cuda.get_device_name(0))\n",
    "else:\n",
    "    print(\"CUDA is not available. Using CPU instead.\")"
   ]
  },
  {
   "cell_type": "code",
   "execution_count": null,
   "id": "878d46f3-9ea2-4baf-8333-5ed22d29f036",
   "metadata": {},
   "outputs": [
    {
     "name": "stderr",
     "output_type": "stream",
     "text": [
      "100%|█████████████████████████████████████| 72.1M/72.1M [00:22<00:00, 3.34MiB/s]\n",
      "/usr/local/lib/python3.10/dist-packages/whisper/__init__.py:150: FutureWarning: You are using `torch.load` with `weights_only=False` (the current default value), which uses the default pickle module implicitly. It is possible to construct malicious pickle data which will execute arbitrary code during unpickling (See https://github.com/pytorch/pytorch/blob/main/SECURITY.md#untrusted-models for more details). In a future release, the default value for `weights_only` will be flipped to `True`. This limits the functions that could be executed during unpickling. Arbitrary objects will no longer be allowed to be loaded via this mode unless they are explicitly allowlisted by the user via `torch.serialization.add_safe_globals`. We recommend you start setting `weights_only=True` for any use case where you don't have full control of the loaded file. Please open an issue on GitHub for any issues related to this experimental feature.\n",
      "  checkpoint = torch.load(fp, map_location=device)\n"
     ]
    },
    {
     "data": {
      "application/vnd.jupyter.widget-view+json": {
       "model_id": "e3077df572b04c9f8a2bce8b120c3a4d",
       "version_major": 2,
       "version_minor": 0
      },
      "text/plain": [
       "Loading checkpoint shards:   0%|          | 0/4 [00:00<?, ?it/s]"
      ]
     },
     "metadata": {},
     "output_type": "display_data"
    },
    {
     "name": "stdout",
     "output_type": "stream",
     "text": [
      " * Serving Flask app '__main__'\n",
      " * Debug mode: off\n"
     ]
    },
    {
     "name": "stderr",
     "output_type": "stream",
     "text": [
      "\u001b[31m\u001b[1mWARNING: This is a development server. Do not use it in a production deployment. Use a production WSGI server instead.\u001b[0m\n",
      " * Running on all addresses (0.0.0.0)\n",
      " * Running on http://127.0.0.1:5000\n",
      " * Running on http://172.27.0.2:5000\n",
      "\u001b[33mPress CTRL+C to quit\u001b[0m\n",
      "100.64.0.33 - - [03/Nov/2024 10:33:52] \"\u001b[33mGET / HTTP/1.1\u001b[0m\" 404 -\n",
      "100.64.0.30 - - [03/Nov/2024 10:33:55] \"\u001b[33mGET / HTTP/1.1\u001b[0m\" 404 -\n",
      "100.64.0.21 - - [03/Nov/2024 10:34:12] \"OPTIONS /analyze?fileUrl=https://firebasestorage.googleapis.com/v0/b/data5703-6c8d4.appspot.com/o/uploads%252F2409_servicesAustralia_linkdin_media_blind_screenreader_voiceOver_Pat_patsAudio.m4a?alt%3Dmedia%26token%3D2f24e722-4a08-427d-8a77-5b3b0e546e1e HTTP/1.1\" 200 -\n"
     ]
    },
    {
     "name": "stdout",
     "output_type": "stream",
     "text": [
      "Received file URL: https://firebasestorage.googleapis.com/v0/b/data5703-6c8d4.appspot.com/o/uploads%2F2409_servicesAustralia_linkdin_media_blind_screenreader_voiceOver_Pat_patsAudio.m4a?alt=media&token=2f24e722-4a08-427d-8a77-5b3b0e546e1e\n"
     ]
    },
    {
     "name": "stderr",
     "output_type": "stream",
     "text": [
      "ffmpeg version 4.4.2-0ubuntu0.22.04.1 Copyright (c) 2000-2021 the FFmpeg developers\n",
      "  built with gcc 11 (Ubuntu 11.2.0-19ubuntu1)\n",
      "  configuration: --prefix=/usr --extra-version=0ubuntu0.22.04.1 --toolchain=hardened --libdir=/usr/lib/x86_64-linux-gnu --incdir=/usr/include/x86_64-linux-gnu --arch=amd64 --enable-gpl --disable-stripping --enable-gnutls --enable-ladspa --enable-libaom --enable-libass --enable-libbluray --enable-libbs2b --enable-libcaca --enable-libcdio --enable-libcodec2 --enable-libdav1d --enable-libflite --enable-libfontconfig --enable-libfreetype --enable-libfribidi --enable-libgme --enable-libgsm --enable-libjack --enable-libmp3lame --enable-libmysofa --enable-libopenjpeg --enable-libopenmpt --enable-libopus --enable-libpulse --enable-librabbitmq --enable-librubberband --enable-libshine --enable-libsnappy --enable-libsoxr --enable-libspeex --enable-libsrt --enable-libssh --enable-libtheora --enable-libtwolame --enable-libvidstab --enable-libvorbis --enable-libvpx --enable-libwebp --enable-libx265 --enable-libxml2 --enable-libxvid --enable-libzimg --enable-libzmq --enable-libzvbi --enable-lv2 --enable-omx --enable-openal --enable-opencl --enable-opengl --enable-sdl2 --enable-pocketsphinx --enable-librsvg --enable-libmfx --enable-libdc1394 --enable-libdrm --enable-libiec61883 --enable-chromaprint --enable-frei0r --enable-libx264 --enable-shared\n",
      "  libavutil      56. 70.100 / 56. 70.100\n",
      "  libavcodec     58.134.100 / 58.134.100\n",
      "  libavformat    58. 76.100 / 58. 76.100\n",
      "  libavdevice    58. 13.100 / 58. 13.100\n",
      "  libavfilter     7.110.100 /  7.110.100\n",
      "  libswscale      5.  9.100 /  5.  9.100\n",
      "  libswresample   3.  9.100 /  3.  9.100\n",
      "  libpostproc    55.  9.100 / 55.  9.100\n",
      "Input #0, mov,mp4,m4a,3gp,3g2,mj2, from 'temp_audio_file.m4a':\n",
      "  Metadata:\n",
      "    major_brand     : mp42\n",
      "    minor_version   : 0\n",
      "    compatible_brands: isommp42\n",
      "    creation_time   : 2024-09-09T23:28:23.000000Z\n",
      "  Duration: 00:06:59.07, start: 0.000000, bitrate: 67 kb/s\n",
      "  Stream #0:0(und): Audio: aac (LC) (mp4a / 0x6134706D), 48000 Hz, stereo, fltp, 66 kb/s (default)\n",
      "    Metadata:\n",
      "      creation_time   : 2024-09-09T23:28:23.000000Z\n",
      "      handler_name    : AAC audio\n",
      "      vendor_id       : [0][0][0][0]\n",
      "Stream mapping:\n",
      "  Stream #0:0 -> #0:0 (aac (native) -> pcm_s16le (native))\n",
      "Press [q] to stop, [?] for help\n",
      "Output #0, wav, to 'temp.wav':\n",
      "  Metadata:\n",
      "    major_brand     : mp42\n",
      "    minor_version   : 0\n",
      "    compatible_brands: isommp42\n",
      "    ISFT            : Lavf58.76.100\n",
      "  Stream #0:0(und): Audio: pcm_s16le ([1][0][0][0] / 0x0001), 16000 Hz, mono, s16, 256 kb/s (default)\n",
      "    Metadata:\n",
      "      creation_time   : 2024-09-09T23:28:23.000000Z\n",
      "      handler_name    : AAC audio\n",
      "      vendor_id       : [0][0][0][0]\n",
      "      encoder         : Lavc58.134.100 pcm_s16le\n",
      "size=   13096kB time=00:06:59.07 bitrate= 256.0kbits/s speed= 784x    \n",
      "video:0kB audio:13096kB subtitle:0kB other streams:0kB global headers:0kB muxing overhead: 0.000582%\n"
     ]
    },
    {
     "name": "stdout",
     "output_type": "stream",
     "text": [
      "Converted temp_audio_file.m4a to temp.wav\n",
      "Transcribed text:  All right. So I'm on the serves Australia linked in page now. I'm just going to have a little look. See what the headings look. Let's see. Let's number one. No alternative text. So basically there's no description on any of the image there, which sucks because it's pretty important, I guess, that you know what the image is. I think not sure what it is. Okay. Okay. Look, it's great, because there's, you know, there's a great description above with the actual post itself, but it's not describing what's in the actual image, which is, you know, it's really important that there is one. Particularly with media like LinkedIn where it's something like this is it's heavily important that I guess all the image is one of the main things that's post. So it's it's really important that everybody gets that information. So it's really important that everybody gets that information. So it's really important that everybody gets that information. So it's really important that everybody gets that information. It's not about where we're purple day, that's cool. But there's no alt text. I don't want to be like a broken record, but alt text is really important. Doesn't need to be huge thing. It's just a little description of what's in the image and then everybody's got the same information, which is really important to make everybody feel included. Alrighty. Thank you. Yeah. Just going to try and look through this. And now for page one. Okay. Okay. I'm going to slow that down so you can hear what that says. I don't even know what it's what it's trying to say. What does that even mean? I think it's reading at this heading. But that is it's like it's reading out maybe what the coding is on the bite. I don't understand. I know PDF is a nightmare with screen readers. That's it's pretty much all I have to say. I can access the information sometimes, but it reads out hundreds of things that aren't even there and it doesn't read out anything correctly a lot of the time. I'm going to slow that down right down and just this is what I'm hearing. Procity equals caught. What does that even mean? That's bizarre. It just said the same thing again. You're currently on a text element. It's yeah. It's not even reading any of the text on the screen. PDFs I think they can be done to be accessible, but more often than not PDFs are just a nightmare when it comes to a screen reader. And not even just a screen reader if you're using magnification and things like that, they can just be a bit tough to navigate. But you know, a lot of the exact tough, but it can be done a lot better and a lot easier. Okay, now let's just give it up on me. It's just keeps on reading that same thing open over again. I don't even know what it means. I'd say whatever the coding is or whatever that is that's under the headings under the text. It's actually providing the PDF image is just it's reading that part of it and not what's actually on the image. So I guess if it's a PDF if there's maybe like an alt text to a text box that actually has what it says or something like that. There's ways of fixing it, but it's just a matter of labeling it and whatnot. Alrighty, well hopefully this was helpful. Thank you.\n"
     ]
    },
    {
     "name": "stderr",
     "output_type": "stream",
     "text": [
      "Setting `pad_token_id` to `eos_token_id`:None for open-end generation.\n"
     ]
    },
    {
     "name": "stdout",
     "output_type": "stream",
     "text": [
      "Processing line: All right \n"
     ]
    },
    {
     "name": "stderr",
     "output_type": "stream",
     "text": [
      "Setting `pad_token_id` to `eos_token_id`:None for open-end generation.\n"
     ]
    },
    {
     "name": "stdout",
     "output_type": "stream",
     "text": [
      "Processing line: I am on the serves Australia linked in page now \n"
     ]
    },
    {
     "name": "stderr",
     "output_type": "stream",
     "text": [
      "Setting `pad_token_id` to `eos_token_id`:None for open-end generation.\n"
     ]
    },
    {
     "name": "stdout",
     "output_type": "stream",
     "text": [
      "Processing line: I am just going to have a little look See what the headings look Let us see Let us number one No alternative text there is no description on any of the image there which sucks because it is pretty important \n"
     ]
    },
    {
     "name": "stderr",
     "output_type": "stream",
     "text": [
      "Setting `pad_token_id` to `eos_token_id`:None for open-end generation.\n"
     ]
    },
    {
     "name": "stdout",
     "output_type": "stream",
     "text": [
      "Processing line: I guess that what the image is \n"
     ]
    },
    {
     "name": "stderr",
     "output_type": "stream",
     "text": [
      "Setting `pad_token_id` to `eos_token_id`:None for open-end generation.\n"
     ]
    },
    {
     "name": "stdout",
     "output_type": "stream",
     "text": [
      "Processing line: I think not sure what it is okay look it is great because there is a great description above with the actual post itself but it is not describing what is in the actual image which is , there is one Particularly with media linked where it is something this is it is heavily important that \n"
     ]
    },
    {
     "name": "stderr",
     "output_type": "stream",
     "text": [
      "Setting `pad_token_id` to `eos_token_id`:None for open-end generation.\n"
     ]
    },
    {
     "name": "stdout",
     "output_type": "stream",
     "text": [
      "Processing line: I guess all the image is one of the main things that is post it is that information it is really important that everybody gets that information It is not about where we are purple day that is cool But there is no all text \n"
     ]
    },
    {
     "name": "stderr",
     "output_type": "stream",
     "text": [
      "Setting `pad_token_id` to `eos_token_id`:None for open-end generation.\n"
     ]
    },
    {
     "name": "stdout",
     "output_type": "stream",
     "text": [
      "Processing line: I do not want to be a broken record but all text is really important Does not need to be huge thing It is just a little description of what is in the image and then everybody's got the same information which is really important to make everybody feel included alright . Just going to try and look through this And now for page one okay that down you can hear what that says what it is trying to say \n"
     ]
    },
    {
     "name": "stderr",
     "output_type": "stream",
     "text": [
      "Setting `pad_token_id` to `eos_token_id`:None for open-end generation.\n"
     ]
    },
    {
     "name": "stdout",
     "output_type": "stream",
     "text": [
      "Processing line: I think it is reading at this heading But that is it is reading out maybe what the coding is on the bite \n"
     ]
    },
    {
     "name": "stderr",
     "output_type": "stream",
     "text": [
      "Setting `pad_token_id` to `eos_token_id`:None for open-end generation.\n"
     ]
    },
    {
     "name": "stdout",
     "output_type": "stream",
     "text": [
      "Processing line: I do not understand \n"
     ]
    },
    {
     "name": "stderr",
     "output_type": "stream",
     "text": [
      "Setting `pad_token_id` to `eos_token_id`:None for open-end generation.\n"
     ]
    },
    {
     "name": "stdout",
     "output_type": "stream",
     "text": [
      "Processing line: I know of is a nightmare with screen readers That is it is pretty much all \n"
     ]
    },
    {
     "name": "stderr",
     "output_type": "stream",
     "text": [
      "Setting `pad_token_id` to `eos_token_id`:None for open-end generation.\n"
     ]
    },
    {
     "name": "stdout",
     "output_type": "stream",
     "text": [
      "Processing line: I have to say \n"
     ]
    },
    {
     "name": "stderr",
     "output_type": "stream",
     "text": [
      "Setting `pad_token_id` to `eos_token_id`:None for open-end generation.\n"
     ]
    },
    {
     "name": "stdout",
     "output_type": "stream",
     "text": [
      "Processing line: I can access the information sometimes but it reads out hundreds of things that are not even there and it does not read out anything correctly a lot of the time \n"
     ]
    },
    {
     "name": "stderr",
     "output_type": "stream",
     "text": [
      "Setting `pad_token_id` to `eos_token_id`:None for open-end generation.\n"
     ]
    },
    {
     "name": "stdout",
     "output_type": "stream",
     "text": [
      "Processing line: I am going to slow that down right down and just this is what \n"
     ]
    },
    {
     "name": "stderr",
     "output_type": "stream",
     "text": [
      "Setting `pad_token_id` to `eos_token_id`:None for open-end generation.\n"
     ]
    }
   ],
   "source": [
    "from flask import Flask, request, jsonify\n",
    "from flask import make_response\n",
    "from flask_cors import CORS\n",
    "import traceback\n",
    "import requests \n",
    "from process import analyze_with_llama, transcribe_audio_with_whisper, convert_audio_to_wav, process_text\n",
    "from datetime import datetime  \n",
    "import json\n",
    "\n",
    "\n",
    "app = Flask(__name__)\n",
    "CORS(app, supports_credentials=True)\n",
    "\n",
    "\n",
    "@app.route('/analyze', methods=['GET'])\n",
    "def analyze():\n",
    "    try:\n",
    "        file_url = request.args.get('fileUrl')\n",
    "        if not file_url:\n",
    "            return jsonify({\"error\": \"No file URL provided\"}), 400\n",
    "        print(f\"Received file URL: {file_url}\")\n",
    "\n",
    "        audio_file = \"temp_audio_file.m4a\"\n",
    "        with open(audio_file, 'wb') as f:\n",
    "            f.write(requests.get(file_url).content)\n",
    "\n",
    "        wav_file = \"temp.wav\"\n",
    "        convert_audio_to_wav(audio_file, wav_file)\n",
    "\n",
    "        transcribed_text = transcribe_audio_with_whisper(wav_file)\n",
    "        print(\"Transcribed text:\", transcribed_text)\n",
    "        processed_text = process_text(transcribed_text)\n",
    "\n",
    "        analysis_result = analyze_with_llama(processed_text)\n",
    "        result = {\"input\": processed_text, \"output\": analysis_result}\n",
    "\n",
    "        timestamp = datetime.now().strftime(\"%Y%m%d_%H%M%S\")\n",
    "        output_file = f\"results/analysis_result_{timestamp}.json\"\n",
    "        with open(output_file, 'w') as json_file:\n",
    "            json.dump(result, json_file, indent=4)\n",
    "        \n",
    "        print(f\"Analysis result saved to {output_file}\")\n",
    "        return jsonify(result), 200\n",
    "\n",
    "    except Exception as e: \n",
    "        print(\"Exception occurred: \", str(e)) \n",
    "        traceback.print_exc() \n",
    "        return jsonify({\"error\": str(e)}), 500 \n",
    "\n",
    "if __name__ == '__main__': \n",
    "    app.run(host='0.0.0.0', port=5000)"
   ]
  },
  {
   "cell_type": "code",
   "execution_count": null,
   "id": "6ef86af6",
   "metadata": {},
   "outputs": [],
   "source": []
  }
 ],
 "metadata": {
  "kernelspec": {
   "display_name": "Python 3 (ipykernel)",
   "language": "python",
   "name": "python3"
  },
  "language_info": {
   "codemirror_mode": {
    "name": "ipython",
    "version": 3
   },
   "file_extension": ".py",
   "mimetype": "text/x-python",
   "name": "python",
   "nbconvert_exporter": "python",
   "pygments_lexer": "ipython3",
   "version": "3.10.12"
  }
 },
 "nbformat": 4,
 "nbformat_minor": 5
}
